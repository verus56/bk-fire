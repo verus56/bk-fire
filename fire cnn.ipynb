{
 "cells": [
  {
   "cell_type": "code",
   "execution_count": 1,
   "id": "ab06d971-f0ac-4606-9022-98d89aa2391d",
   "metadata": {},
   "outputs": [],
   "source": [
    "\n",
    "import tensorflow as tf\n",
    "import keras_preprocessing\n",
    "from keras_preprocessing import image\n",
    "from keras_preprocessing.image import ImageDataGenerator\n",
    "import shutil\n",
    "from tensorflow.keras.callbacks import ModelCheckpoint, EarlyStopping"
   ]
  },
  {
   "cell_type": "code",
   "execution_count": 2,
   "id": "2a2972bd-5f72-45be-ad90-9dae012996ce",
   "metadata": {},
   "outputs": [],
   "source": [
    "\n",
    "TRAIN_DIR = 'E:/Dataset/train'\n",
    "VALIDATION_DIR = 'E:/Dataset/valid'"
   ]
  },
  {
   "cell_type": "code",
   "execution_count": 3,
   "id": "1d53944b-5fe2-4a69-9141-f40a8c4fdf2d",
   "metadata": {},
   "outputs": [],
   "source": [
    "\n",
    "train_datagen = ImageDataGenerator(rescale = 1./255,\n",
    "                                   zoom_range = 0.2,\n",
    "                                   horizontal_flip = True,\n",
    "                                   fill_mode = 'nearest')\n",
    "\n",
    "validation_datagen = ImageDataGenerator(rescale = 1./255)\n",
    "     "
   ]
  },
  {
   "cell_type": "code",
   "execution_count": 4,
   "id": "d299219e-9f2a-41fa-b77a-944f5ec61b40",
   "metadata": {},
   "outputs": [
    {
     "name": "stdout",
     "output_type": "stream",
     "text": [
      "Found 25856 images belonging to 2 classes.\n",
      "Found 9644 images belonging to 2 classes.\n"
     ]
    }
   ],
   "source": [
    "train_generator = train_datagen.flow_from_directory(\n",
    "    TRAIN_DIR,\n",
    "    target_size = (224, 224),\n",
    "    class_mode = 'categorical',\n",
    "    batch_size = 64\n",
    ")\n",
    "\n",
    "\n",
    "validation_generator = validation_datagen.flow_from_directory(\n",
    "    VALIDATION_DIR,\n",
    "    target_size = (224, 224),\n",
    "    class_mode = 'categorical',\n",
    "    batch_size = 16\n",
    ")\n",
    "     "
   ]
  },
  {
   "cell_type": "code",
   "execution_count": 5,
   "id": "2e41fd70-126c-4807-925a-a35d23adc378",
   "metadata": {},
   "outputs": [
    {
     "name": "stdout",
     "output_type": "stream",
     "text": [
      "Model: \"sequential\"\n",
      "_________________________________________________________________\n",
      " Layer (type)                Output Shape              Param #   \n",
      "=================================================================\n",
      " conv2d (Conv2D)             (None, 54, 54, 128)       46592     \n",
      "                                                                 \n",
      " max_pooling2d (MaxPooling2D  (None, 26, 26, 128)      0         \n",
      " )                                                               \n",
      "                                                                 \n",
      " conv2d_1 (Conv2D)           (None, 22, 22, 256)       819456    \n",
      "                                                                 \n",
      " max_pooling2d_1 (MaxPooling  (None, 10, 10, 256)      0         \n",
      " 2D)                                                             \n",
      "                                                                 \n",
      " conv2d_2 (Conv2D)           (None, 6, 6, 384)         2457984   \n",
      "                                                                 \n",
      " max_pooling2d_2 (MaxPooling  (None, 2, 2, 384)        0         \n",
      " 2D)                                                             \n",
      "                                                                 \n",
      " flatten (Flatten)           (None, 1536)              0         \n",
      "                                                                 \n",
      " dropout (Dropout)           (None, 1536)              0         \n",
      "                                                                 \n",
      " dense (Dense)               (None, 2048)              3147776   \n",
      "                                                                 \n",
      " dropout_1 (Dropout)         (None, 2048)              0         \n",
      "                                                                 \n",
      " dense_1 (Dense)             (None, 1024)              2098176   \n",
      "                                                                 \n",
      " dropout_2 (Dropout)         (None, 1024)              0         \n",
      "                                                                 \n",
      " dense_2 (Dense)             (None, 2)                 2050      \n",
      "                                                                 \n",
      "=================================================================\n",
      "Total params: 8,572,034\n",
      "Trainable params: 8,572,034\n",
      "Non-trainable params: 0\n",
      "_________________________________________________________________\n"
     ]
    },
    {
     "name": "stderr",
     "output_type": "stream",
     "text": [
      "C:\\Users\\Thameur\\AppData\\Local\\Programs\\Python\\Python310\\lib\\site-packages\\keras\\optimizer_v2\\adam.py:105: UserWarning: The `lr` argument is deprecated, use `learning_rate` instead.\n",
      "  super(Adam, self).__init__(name, **kwargs)\n"
     ]
    }
   ],
   "source": [
    "from tensorflow.keras.optimizers import Adam\n",
    "\n",
    "model = tf.keras.models.Sequential([\n",
    "                                    tf.keras.layers.Conv2D(128, (11, 11), strides = (4, 4), activation = 'relu', input_shape = (224, 224, 3)),\n",
    "                                    tf.keras.layers.MaxPooling2D(pool_size=(3, 3), strides = (2, 2)),\n",
    "                                    tf.keras.layers.Conv2D(256, (5, 5), activation = 'relu'),\n",
    "                                    tf.keras.layers.MaxPooling2D(pool_size = (3, 3), strides = (2, 2)),\n",
    "                                    tf.keras.layers.Conv2D(384, (5,5), activation='relu'),\n",
    "                                    tf.keras.layers.MaxPooling2D(pool_size = (3,3), strides=(2,2)),\n",
    "                                    tf.keras.layers.Flatten(),\n",
    "                                    tf.keras.layers.Dropout(0.2),\n",
    "                                    tf.keras.layers.Dense(2048, activation = 'relu'),\n",
    "                                    tf.keras.layers.Dropout(0.25),\n",
    "                                    tf.keras.layers.Dense(1024, activation = 'relu'),\n",
    "                                    tf.keras.layers.Dropout(0.2),\n",
    "                                    tf.keras.layers.Dense(2, activation='softmax')\n",
    "])\n",
    "\n",
    "model.compile(loss = 'categorical_crossentropy',\n",
    "              optimizer = Adam(lr = 0.0001),\n",
    "              metrics = ['acc'])\n",
    "\n",
    "model.summary()"
   ]
  },
  {
   "cell_type": "code",
   "execution_count": 6,
   "id": "d9129c1b-de1d-4d79-ba6f-75b7345b9389",
   "metadata": {},
   "outputs": [
    {
     "name": "stdout",
     "output_type": "stream",
     "text": [
      "Epoch 1/50\n",
      "15/15 [==============================] - 75s 5s/step - loss: 0.6052 - acc: 0.6271 - val_loss: 0.5692 - val_acc: 0.7625\n",
      "Epoch 2/50\n",
      "15/15 [==============================] - 72s 5s/step - loss: 0.5483 - acc: 0.6885 - val_loss: 0.4705 - val_acc: 0.8708\n",
      "Epoch 3/50\n",
      "15/15 [==============================] - 67s 4s/step - loss: 0.5110 - acc: 0.7198 - val_loss: 0.3900 - val_acc: 0.8750\n",
      "Epoch 4/50\n",
      "15/15 [==============================] - 65s 4s/step - loss: 0.4896 - acc: 0.7354 - val_loss: 0.3563 - val_acc: 0.8750\n",
      "Epoch 5/50\n",
      "15/15 [==============================] - 63s 4s/step - loss: 0.4310 - acc: 0.8219 - val_loss: 0.2675 - val_acc: 0.9542\n",
      "Epoch 6/50\n",
      "15/15 [==============================] - 67s 4s/step - loss: 0.3452 - acc: 0.8510 - val_loss: 0.2024 - val_acc: 0.9167\n",
      "Epoch 7/50\n",
      "15/15 [==============================] - 62s 4s/step - loss: 0.3302 - acc: 0.8562 - val_loss: 0.1577 - val_acc: 0.9667\n",
      "Epoch 8/50\n",
      "15/15 [==============================] - 61s 4s/step - loss: 0.2886 - acc: 0.8708 - val_loss: 0.2656 - val_acc: 0.8958\n",
      "Epoch 9/50\n",
      "15/15 [==============================] - 59s 4s/step - loss: 0.3035 - acc: 0.8625 - val_loss: 0.1405 - val_acc: 0.9583\n",
      "Epoch 10/50\n",
      "15/15 [==============================] - 59s 4s/step - loss: 0.2141 - acc: 0.9229 - val_loss: 0.0831 - val_acc: 0.9833\n",
      "Epoch 11/50\n",
      "15/15 [==============================] - 59s 4s/step - loss: 0.2182 - acc: 0.9208 - val_loss: 0.1572 - val_acc: 0.9375\n",
      "Epoch 12/50\n",
      "15/15 [==============================] - 57s 4s/step - loss: 0.1702 - acc: 0.9365 - val_loss: 0.1093 - val_acc: 0.9917\n",
      "Epoch 13/50\n",
      "15/15 [==============================] - 57s 4s/step - loss: 0.1624 - acc: 0.9385 - val_loss: 0.0784 - val_acc: 0.9833\n",
      "Epoch 14/50\n",
      "15/15 [==============================] - 57s 4s/step - loss: 0.1477 - acc: 0.9552 - val_loss: 0.1943 - val_acc: 0.9708\n",
      "Epoch 15/50\n",
      "15/15 [==============================] - 57s 4s/step - loss: 0.1385 - acc: 0.9438 - val_loss: 0.1048 - val_acc: 0.9750\n",
      "Epoch 16/50\n",
      "15/15 [==============================] - 57s 4s/step - loss: 0.1184 - acc: 0.9646 - val_loss: 0.0918 - val_acc: 0.9833\n",
      "Epoch 17/50\n",
      "15/15 [==============================] - 55s 4s/step - loss: 0.1371 - acc: 0.9490 - val_loss: 0.5474 - val_acc: 0.8625\n",
      "Epoch 18/50\n",
      "15/15 [==============================] - 55s 4s/step - loss: 0.2367 - acc: 0.9177 - val_loss: 0.1379 - val_acc: 0.9667\n",
      "Epoch 19/50\n",
      "15/15 [==============================] - 54s 4s/step - loss: 0.1619 - acc: 0.9458 - val_loss: 0.1783 - val_acc: 0.9083\n",
      "Epoch 20/50\n",
      "15/15 [==============================] - 54s 4s/step - loss: 0.1162 - acc: 0.9594 - val_loss: 0.1634 - val_acc: 0.9542\n",
      "Epoch 21/50\n",
      "15/15 [==============================] - 55s 4s/step - loss: 0.1236 - acc: 0.9573 - val_loss: 0.0899 - val_acc: 0.9750\n",
      "Epoch 22/50\n",
      "15/15 [==============================] - 55s 4s/step - loss: 0.0911 - acc: 0.9740 - val_loss: 0.1280 - val_acc: 0.9583\n",
      "Epoch 23/50\n",
      "15/15 [==============================] - 54s 4s/step - loss: 0.0862 - acc: 0.9677 - val_loss: 0.1443 - val_acc: 0.9625\n",
      "Epoch 24/50\n",
      "15/15 [==============================] - 53s 3s/step - loss: 0.0945 - acc: 0.9729 - val_loss: 0.2812 - val_acc: 0.9458\n",
      "Epoch 25/50\n",
      "15/15 [==============================] - 54s 4s/step - loss: 0.0886 - acc: 0.9708 - val_loss: 0.2552 - val_acc: 0.9542\n",
      "Epoch 26/50\n",
      "15/15 [==============================] - 53s 3s/step - loss: 0.0969 - acc: 0.9677 - val_loss: 0.2997 - val_acc: 0.8833\n",
      "Epoch 27/50\n",
      "15/15 [==============================] - 52s 3s/step - loss: 0.0581 - acc: 0.9812 - val_loss: 0.0881 - val_acc: 0.9708\n",
      "Epoch 28/50\n",
      "15/15 [==============================] - 53s 3s/step - loss: 0.0443 - acc: 0.9812 - val_loss: 0.2240 - val_acc: 0.9458\n",
      "Epoch 29/50\n",
      "15/15 [==============================] - 53s 4s/step - loss: 0.0679 - acc: 0.9854 - val_loss: 0.3733 - val_acc: 0.8875\n",
      "Epoch 30/50\n",
      "15/15 [==============================] - 52s 3s/step - loss: 0.0556 - acc: 0.9823 - val_loss: 0.0730 - val_acc: 0.9875\n",
      "Epoch 31/50\n",
      "15/15 [==============================] - 52s 3s/step - loss: 0.0772 - acc: 0.9688 - val_loss: 0.1508 - val_acc: 0.9250\n",
      "Epoch 32/50\n",
      "15/15 [==============================] - 53s 4s/step - loss: 0.0582 - acc: 0.9802 - val_loss: 0.1249 - val_acc: 0.9625\n",
      "Epoch 33/50\n",
      "15/15 [==============================] - 53s 3s/step - loss: 0.0477 - acc: 0.9865 - val_loss: 0.1632 - val_acc: 0.9708\n",
      "Epoch 34/50\n",
      "15/15 [==============================] - 51s 3s/step - loss: 0.0690 - acc: 0.9760 - val_loss: 0.0381 - val_acc: 0.9875\n",
      "Epoch 35/50\n",
      "15/15 [==============================] - 51s 3s/step - loss: 0.0687 - acc: 0.9760 - val_loss: 0.2405 - val_acc: 0.9458\n",
      "Epoch 36/50\n",
      "15/15 [==============================] - 52s 3s/step - loss: 0.0654 - acc: 0.9812 - val_loss: 0.3270 - val_acc: 0.9292\n",
      "Epoch 37/50\n",
      "15/15 [==============================] - 51s 3s/step - loss: 0.0432 - acc: 0.9875 - val_loss: 0.2915 - val_acc: 0.9583\n",
      "Epoch 38/50\n",
      "15/15 [==============================] - 52s 3s/step - loss: 0.0295 - acc: 0.9927 - val_loss: 0.4428 - val_acc: 0.8500\n",
      "Epoch 39/50\n",
      "15/15 [==============================] - 50s 3s/step - loss: 0.0651 - acc: 0.9812 - val_loss: 0.2725 - val_acc: 0.9625\n",
      "Epoch 40/50\n",
      "15/15 [==============================] - 51s 3s/step - loss: 0.0681 - acc: 0.9760 - val_loss: 0.2799 - val_acc: 0.8708\n",
      "Epoch 41/50\n",
      "15/15 [==============================] - 50s 3s/step - loss: 0.0561 - acc: 0.9823 - val_loss: 0.6038 - val_acc: 0.8417\n",
      "Epoch 42/50\n",
      "15/15 [==============================] - 50s 3s/step - loss: 0.0454 - acc: 0.9875 - val_loss: 0.6079 - val_acc: 0.7542\n",
      "Epoch 43/50\n",
      "15/15 [==============================] - 51s 3s/step - loss: 0.0270 - acc: 0.9906 - val_loss: 0.4706 - val_acc: 0.9333\n",
      "Epoch 44/50\n",
      "15/15 [==============================] - 50s 3s/step - loss: 0.0645 - acc: 0.9823 - val_loss: 0.2426 - val_acc: 0.9667\n",
      "Epoch 45/50\n",
      "15/15 [==============================] - 52s 3s/step - loss: 0.0384 - acc: 0.9854 - val_loss: 0.3541 - val_acc: 0.9292\n",
      "Epoch 46/50\n",
      "15/15 [==============================] - 56s 4s/step - loss: 0.0482 - acc: 0.9875 - val_loss: 0.6313 - val_acc: 0.8500\n",
      "Epoch 47/50\n",
      "15/15 [==============================] - 54s 4s/step - loss: 0.0421 - acc: 0.9865 - val_loss: 0.3665 - val_acc: 0.9542\n",
      "Epoch 48/50\n",
      "15/15 [==============================] - 50s 3s/step - loss: 0.0233 - acc: 0.9917 - val_loss: 0.3788 - val_acc: 0.9375\n",
      "Epoch 49/50\n",
      "15/15 [==============================] - 52s 3s/step - loss: 0.0436 - acc: 0.9875 - val_loss: 0.2594 - val_acc: 0.8750\n",
      "Epoch 50/50\n",
      "15/15 [==============================] - 50s 3s/step - loss: 0.0547 - acc: 0.9823 - val_loss: 0.4438 - val_acc: 0.8792\n"
     ]
    }
   ],
   "source": [
    "\n",
    "history = model.fit(\n",
    "    train_generator,\n",
    "    steps_per_epoch = 15,\n",
    "    epochs = 50,\n",
    "    validation_data = validation_generator,\n",
    "    validation_steps = 15\n",
    ")\n",
    "   "
   ]
  },
  {
   "cell_type": "code",
   "execution_count": 8,
   "id": "c937df8c-27aa-40e7-8cee-ab46938278a5",
   "metadata": {},
   "outputs": [
    {
     "data": {
      "image/png": "[encoded data removed]",
      "text/plain": [
       "<Figure size 432x288 with 1 Axes>"
      ]
     },
     "metadata": {
      "needs_background": "light"
     },
     "output_type": "display_data"
    },
    {
     "data": {
      "text/plain": [
       "<Figure size 432x288 with 0 Axes>"
      ]
     },
     "metadata": {},
     "output_type": "display_data"
    },
    {
     "data": {
      "image/png": "[encoded data removed]",
      "text/plain": [
       "<Figure size 432x288 with 1 Axes>"
      ]
     },
     "metadata": {
      "needs_background": "light"
     },
     "output_type": "display_data"
    },
    {
     "data": {
      "text/plain": [
       "<Figure size 432x288 with 0 Axes>"
      ]
     },
     "metadata": {},
     "output_type": "display_data"
    }
   ],
   "source": [
    "%matplotlib inline\n",
    "\n",
    "import matplotlib.pyplot as plt\n",
    "\n",
    "accuracy = history.history['acc']\n",
    "val_accuracy = history.history['val_acc']\n",
    "loss = history.history['loss']\n",
    "val_loss = history.history['val_loss']\n",
    "\n",
    "epochs = range(len(accuracy))\n",
    "\n",
    "plt.plot(epochs, accuracy, 'r', label = 'Training accuracy')\n",
    "plt.plot(epochs, val_accuracy, 'b', label = 'Validation accuracy')\n",
    "plt.title('Accuracy plot')\n",
    "\n",
    "plt.legend(loc = 1)\n",
    "plt.figure()\n",
    "plt.show()\n",
    "\n",
    "plt.plot(epochs, loss, 'g', label = 'Training loss')\n",
    "plt.plot(epochs, val_loss, 'o', label = 'Validation loss')\n",
    "plt.title('Loss plot')\n",
    "\n",
    "plt.legend(loc = 1)\n",
    "plt.figure()\n",
    "plt.show()"
   ]
  },
  {
   "cell_type": "code",
   "execution_count": 7,
   "id": "cfac7927-178c-4dee-a403-6459fb30cbef",
   "metadata": {},
   "outputs": [],
   "source": [
    "model.save('my_fire.h5')"
   ]
  },
  {
   "cell_type": "code",
   "execution_count": null,
   "id": "327bbfab-93c6-4143-ae52-503b03c15dd2",
   "metadata": {},
   "outputs": [],
   "source": []
  }
 ],
 "metadata": {
  "kernelspec": {
   "display_name": "Python 3 (ipykernel)",
   "language": "python",
   "name": "python3"
  },
  "language_info": {
   "codemirror_mode": {
    "name": "ipython",
    "version": 3
   },
   "file_extension": ".py",
   "mimetype": "text/x-python",
   "name": "python",
   "nbconvert_exporter": "python",
   "pygments_lexer": "ipython3",
   "version": "3.10.4"
  }
 },
 "nbformat": 4,
 "nbformat_minor": 5
}
